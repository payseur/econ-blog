{
 "cells": [
  {
   "cell_type": "markdown",
   "metadata": {},
   "source": [
    "# 📊 Yield Curve Update — {{date}}"
   ]
  },
  {
   "cell_type": "code",
   "execution_count": null,
   "metadata": {},
   "outputs": [],
   "source": [
    "import pandas as pd\n",
    "import matplotlib.pyplot as plt\n",
    "from datetime import date\n",
    "\n",
    "# Plot settings\n",
    "plt.style.use(\"seaborn-v0_8-muted\")\n",
    "plt.rcParams[\"figure.figsize\"] = (8, 4)"
   ]
  },
  {
   "cell_type": "code",
   "execution_count": null,
   "metadata": {},
   "outputs": [],
   "source": [
    "# Example: Dummy yield curve plot\n",
    "maturities = [\"1M\", \"3M\", \"6M\", \"1Y\", \"2Y\", \"5Y\", \"10Y\", \"30Y\"]\n",
    "yields = [5.2, 5.1, 5.0, 4.8, 4.5, 4.1, 3.8, 3.6]\n",
    "\n",
    "plt.plot(maturities, yields, marker=\"o\")\n",
    "plt.title(\"US Treasury Yield Curve\")\n",
    "plt.ylabel(\"Yield (%)\")\n",
    "plt.grid(True)\n",
    "plt.show()"
   ]
  },
  {
   "cell_type": "markdown",
   "metadata": {},
   "source": [
    "Yields remain inverted, with 6-month Treasuries still above 10-year — a classic recession signal."
   ]
  },
  {
   "cell_type": "markdown",
   "metadata": {},
   "source": [
    "**Tags:** #yieldcurve #macro #recession  \n",
    "**Source:** FRED"
   ]
  }
 ],
 "metadata": {
  "kernelspec": {
   "display_name": "Python 3",
   "language": "python",
   "name": "python3"
  },
  "language_info": {
   "name": "python",
   "version": ""
  }
 },
 "nbformat": 4,
 "nbformat_minor": 5
}

