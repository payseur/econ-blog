{
 "cells": [
  {
   "cell_type": "code",
   "execution_count": 6,
   "id": "84468844-5db1-44d9-89b5-4c69a1747d1a",
   "metadata": {},
   "outputs": [
    {
     "data": {
      "text/plain": [
       "['Requirement already satisfied: matplotlib in /Users/scott/.pyenv/versions/3.12.3/lib/python3.12/site-packages (3.10.3)',\n",
       " 'Requirement already satisfied: contourpy>=1.0.1 in /Users/scott/.pyenv/versions/3.12.3/lib/python3.12/site-packages (from matplotlib) (1.3.2)',\n",
       " 'Requirement already satisfied: cycler>=0.10 in /Users/scott/.pyenv/versions/3.12.3/lib/python3.12/site-packages (from matplotlib) (0.12.1)',\n",
       " 'Requirement already satisfied: fonttools>=4.22.0 in /Users/scott/.pyenv/versions/3.12.3/lib/python3.12/site-packages (from matplotlib) (4.59.0)',\n",
       " 'Requirement already satisfied: kiwisolver>=1.3.1 in /Users/scott/.pyenv/versions/3.12.3/lib/python3.12/site-packages (from matplotlib) (1.4.8)',\n",
       " 'Requirement already satisfied: numpy>=1.23 in /Users/scott/.pyenv/versions/3.12.3/lib/python3.12/site-packages (from matplotlib) (2.3.1)',\n",
       " 'Requirement already satisfied: packaging>=20.0 in /Users/scott/.pyenv/versions/3.12.3/lib/python3.12/site-packages (from matplotlib) (25.0)',\n",
       " 'Requirement already satisfied: pillow>=8 in /Users/scott/.pyenv/versions/3.12.3/lib/python3.12/site-packages (from matplotlib) (11.3.0)',\n",
       " 'Requirement already satisfied: pyparsing>=2.3.1 in /Users/scott/.pyenv/versions/3.12.3/lib/python3.12/site-packages (from matplotlib) (3.2.3)',\n",
       " 'Requirement already satisfied: python-dateutil>=2.7 in /Users/scott/.pyenv/versions/3.12.3/lib/python3.12/site-packages (from matplotlib) (2.9.0.post0)',\n",
       " 'Requirement already satisfied: six>=1.5 in /Users/scott/.pyenv/versions/3.12.3/lib/python3.12/site-packages (from python-dateutil>=2.7->matplotlib) (1.17.0)']"
      ]
     },
     "execution_count": 6,
     "metadata": {},
     "output_type": "execute_result"
    }
   ],
   "source": [
    "!! pip install matplotlib"
   ]
  },
  {
   "cell_type": "code",
   "execution_count": 1,
   "id": "20783515-be77-40f1-be66-0579b1b08ac7",
   "metadata": {},
   "outputs": [
    {
     "ename": "ModuleNotFoundError",
     "evalue": "No module named 'matplotlib'",
     "output_type": "error",
     "traceback": [
      "\u001b[31m---------------------------------------------------------------------------\u001b[39m",
      "\u001b[31mModuleNotFoundError\u001b[39m                       Traceback (most recent call last)",
      "\u001b[36mCell\u001b[39m\u001b[36m \u001b[39m\u001b[32mIn[1]\u001b[39m\u001b[32m, line 1\u001b[39m\n\u001b[32m----> \u001b[39m\u001b[32m1\u001b[39m \u001b[38;5;28;01mimport\u001b[39;00m\u001b[38;5;250m \u001b[39m\u001b[34;01mmatplotlib\u001b[39;00m\u001b[34;01m.\u001b[39;00m\u001b[34;01mpyplot\u001b[39;00m\u001b[38;5;250m \u001b[39m\u001b[38;5;28;01mas\u001b[39;00m\u001b[38;5;250m \u001b[39m\u001b[34;01mplt\u001b[39;00m\n\u001b[32m      2\u001b[39m \u001b[38;5;28;01mimport\u001b[39;00m\u001b[38;5;250m \u001b[39m\u001b[34;01mnumpy\u001b[39;00m\u001b[38;5;250m \u001b[39m\u001b[38;5;28;01mas\u001b[39;00m\u001b[38;5;250m \u001b[39m\u001b[34;01mnp\u001b[39;00m\n\u001b[32m      4\u001b[39m x = np.linspace(\u001b[32m0\u001b[39m, \u001b[32m10\u001b[39m, \u001b[32m100\u001b[39m)\n",
      "\u001b[31mModuleNotFoundError\u001b[39m: No module named 'matplotlib'"
     ]
    }
   ],
   "source": [
    "import matplotlib.pyplot as plt\n",
    "import numpy as np\n",
    "\n",
    "x = np.linspace(0, 10, 100)\n",
    "y = np.sin(x)\n",
    "\n",
    "plt.plot(x, y)\n",
    "plt.title('Hello World Plot')\n",
    "plt.show()\n"
   ]
  }
 ],
 "metadata": {
  "kernelspec": {
   "display_name": "Python 3 (ipykernel)",
   "language": "python",
   "name": "python3"
  },
  "language_info": {
   "codemirror_mode": {
    "name": "ipython",
    "version": 3
   },
   "file_extension": ".py",
   "mimetype": "text/x-python",
   "name": "python",
   "nbconvert_exporter": "python",
   "pygments_lexer": "ipython3",
   "version": "3.13.5"
  }
 },
 "nbformat": 4,
 "nbformat_minor": 5
}
